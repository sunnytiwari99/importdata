{
  "nbformat": 4,
  "nbformat_minor": 0,
  "metadata": {
    "colab": {
      "name": "WEEK 0: EXTRA ACTIVITY 3 - MONTE CARLO SIMULATION",
      "provenance": [],
      "collapsed_sections": [],
      "include_colab_link": true
    },
    "kernelspec": {
      "name": "python3",
      "display_name": "Python 3"
    }
  },
  "cells": [
    {
      "cell_type": "markdown",
      "metadata": {
        "id": "view-in-github",
        "colab_type": "text"
      },
      "source": [
        "<a href=\"https://colab.research.google.com/github/sunnytiwari99/importdata/blob/main/WEEK_0_EXTRA_ACTIVITY_3_MONTE_CARLO_SIMULATION.ipynb\" target=\"_parent\"><img src=\"https://colab.research.google.com/assets/colab-badge.svg\" alt=\"Open In Colab\"/></a>"
      ]
    },
    {
      "cell_type": "markdown",
      "source": [
        ""
      ],
      "metadata": {
        "id": "XAKeBNVBQHt_"
      }
    },
    {
      "cell_type": "markdown",
      "metadata": {
        "id": "DFVYyoMKKj7i"
      },
      "source": [
        "# Probability in Python"
      ]
    },
    {
      "cell_type": "markdown",
      "source": [
        ""
      ],
      "metadata": {
        "id": "fYF7m-vQQHV3"
      }
    },
    {
      "cell_type": "markdown",
      "metadata": {
        "id": "yQnPw68Ono8S"
      },
      "source": [
        "# Importing packages\n",
        "\n",
        "You can ignore this part for now."
      ]
    },
    {
      "cell_type": "code",
      "metadata": {
        "id": "pV7_0aGuiytb"
      },
      "source": [
        "import numpy as np"
      ],
      "execution_count": null,
      "outputs": []
    },
    {
      "cell_type": "markdown",
      "metadata": {
        "id": "qdCYJhrAoHVZ"
      },
      "source": [
        "# Function for uniform outcome\n",
        "\n",
        "$n$: number of outcomes in the sample space\n",
        "\n",
        "Output: $m$ outcomes selected uniformly at random from 1 to $n$"
      ]
    },
    {
      "cell_type": "code",
      "metadata": {
        "id": "JK-MRio0oRX7",
        "cellView": "code"
      },
      "source": [
        "def uniform(n, m):\n",
        "  return np.random.randint(1, n+1, size = m)"
      ],
      "execution_count": null,
      "outputs": []
    },
    {
      "cell_type": "markdown",
      "metadata": {
        "id": "Y8gHArc-vs77"
      },
      "source": [
        "# Estimating probability by simulation - Monte Carlo\n",
        "\n",
        "The probability of an event $A$ can be estimated as follows. We can simulate the experiment repeatedly and independently, say $N$ times, and count the number of times the event occurred, say $N_A$. \n",
        "\n",
        "A good estimate of $P(A)$ is the following:\n",
        "$$P(A) \\approx \\frac{N_A}{N}$$\n",
        "As $N$ grows larger and larger, the estimate becomes better and better. This method is generally termed as Monte Carlo simulation.\n",
        "\n"
      ]
    },
    {
      "cell_type": "markdown",
      "metadata": {
        "id": "fNTXoPKaytVy"
      },
      "source": [
        "# Probability of getting '1' on the first die, '2' on the second die, and '3' on the third die when Three Dice are rolled simultaneously\n",
        "\n",
        "We will modify the Monte Carlo simulation above for finding the probability that three dice shows numbers '1' , '2' and '3' respectively. We will see that the estimate is close to $P(A)$ which I have computed below manually. If we change the loop iterations to 1000000, the estimate will be much closer to $P(A)$ and more consistent as well. "
      ]
    },
    {
      "cell_type": "markdown",
      "source": [
        " Here I have simulated the event of getting '**1**' on the *first die*, '**2**' on the *second die*, and '**3**' on the *third die* when **Three Dice** are rolled simultaneously.I have simulated the experiment repeatedly up to '100000' times.\n",
        "\n",
        " Lets denote the event as A.\n",
        "\n",
        " Manual computation of probability of the event:\n",
        "Since the occurrence of any number on any die is independent of the occurrence of any number on the other two die, therefore probability of the event A is:\n",
        "P(A) = (1/6)*(1/6)*(1/6) = (1/216) ≈ 0.00463"
      ],
      "metadata": {
        "id": "VPOjOijxmPct"
      }
    },
    {
      "cell_type": "code",
      "metadata": {
        "colab": {
          "base_uri": "https://localhost:8080/"
        },
        "id": "9U8CCvkly4Tv",
        "outputId": "5b448895-b8c5-4d56-8def-ba736644d75c"
      },
      "source": [
        "no = 0   #variable for storing number of event occurence\n",
        "for i in range(100000): #repetitions\n",
        "  die1=  uniform(6,1)\n",
        "  die2=  uniform(6,1)\n",
        "  die3 = uniform(6,1)  #experiment\n",
        "  if die1 == 1 and die2 == 2 and  die3 == 3: #Event\n",
        "    no = no + 1\n",
        "print(no/100000) #probability estimate by Monte Carlo"
      ],
      "execution_count": null,
      "outputs": [
        {
          "output_type": "stream",
          "name": "stdout",
          "text": [
            "0.00461\n"
          ]
        }
      ]
    }
  ]
}